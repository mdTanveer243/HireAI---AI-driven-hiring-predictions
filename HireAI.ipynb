{
  "cells": [
    {
      "cell_type": "markdown",
      "metadata": {},
      "source": [
        "\n",
        "# 📌 Introduction\n",
        "\n",
        "HireAI is a machine learning-driven employment forecasting system designed to help job seekers assess their employability. \n",
        "By analyzing various factors such as education, experience, and technical skills, the model predicts the likelihood of a candidate getting hired.\n",
        "This project aims to make the hiring process more data-driven and insightful for both applicants and recruiters.\n"
      ]
    },
    {
      "cell_type": "markdown",
      "metadata": {},
      "source": [
        "\n",
        "# 🎯 Objectives\n",
        "\n",
        "The main objectives of this project are:\n",
        "- Develop a robust machine learning model to predict employability status.\n",
        "- Analyze key factors that influence hiring decisions.\n",
        "- Implement various ML algorithms such as Logistic Regression, Decision Tree, and SVM for better accuracy.\n",
        "- Deploy the model using Flask to provide a user-friendly interface for job seekers.\n",
        "- Offer data-driven insights to improve employability outcomes.\n"
      ]
    },
    {
      "cell_type": "markdown",
      "metadata": {
        "id": "5raywcZVQaGb"
      },
      "source": [
        "# Importing the Libraries"
      ]
    },
    {
      "cell_type": "code",
      "execution_count": 2,
      "metadata": {
        "id": "bBBDE78FQXOs"
      },
      "outputs": [],
      "source": [
        "import numpy as np\n",
        "import matplotlib.pyplot as plt\n",
        "import pandas as pd\n",
        "from sklearn import preprocessing"
      ]
    },
    {
      "cell_type": "markdown",
      "metadata": {
        "id": "Ha3M_mzzQRKc"
      },
      "source": [
        "# Importing and Cleaning the Dataset"
      ]
    },
    {
      "cell_type": "code",
      "execution_count": 3,
      "metadata": {
        "id": "wbbtx4kRQIfj"
      },
      "outputs": [],
      "source": [
        "dataset = pd.read_csv(r\"C:\\Users\\tanve\\OneDrive\\Desktop\\HireAI/employability_dataset.csv\", delimiter=\";\")"
      ]
    },
    {
      "cell_type": "code",
      "execution_count": 4,
      "metadata": {
        "id": "_9SuQnLDT4XS"
      },
      "outputs": [
        {
          "name": "stdout",
          "output_type": "stream",
          "text": [
            "<class 'pandas.core.frame.DataFrame'>\n",
            "RangeIndex: 73462 entries, 0 to 73461\n",
            "Data columns (total 15 columns):\n",
            " #   Column          Non-Null Count  Dtype \n",
            "---  ------          --------------  ----- \n",
            " 0   Unnamed: 0      73462 non-null  int64 \n",
            " 1   Age             73462 non-null  object\n",
            " 2   Accessibility   73462 non-null  object\n",
            " 3   EdLevel         73462 non-null  object\n",
            " 4   Employment      73462 non-null  int64 \n",
            " 5   Gender          73462 non-null  object\n",
            " 6   MentalHealth    73462 non-null  object\n",
            " 7   MainBranch      73462 non-null  object\n",
            " 8   YearsCode       73462 non-null  int64 \n",
            " 9   YearsCodePro    73462 non-null  int64 \n",
            " 10  Country         73462 non-null  object\n",
            " 11  PreviousSalary  73462 non-null  object\n",
            " 12  HaveWorkedWith  73399 non-null  object\n",
            " 13  ComputerSkills  73462 non-null  int64 \n",
            " 14  Employed        73462 non-null  int64 \n",
            "dtypes: int64(6), object(9)\n",
            "memory usage: 8.4+ MB\n"
          ]
        }
      ],
      "source": [
        "dataset.info()"
      ]
    },
    {
      "cell_type": "code",
      "execution_count": 5,
      "metadata": {
        "id": "Cl23vfAsQyff"
      },
      "outputs": [],
      "source": [
        "dataset.drop(columns = \"Unnamed: 0\", inplace = True)\n",
        "dataset.drop(columns = \"HaveWorkedWith\", inplace = True)\n",
        "dataset.drop(columns = 'YearsCodePro', inplace = True)"
      ]
    },
    {
      "cell_type": "code",
      "execution_count": 6,
      "metadata": {
        "id": "RR9qc5kWm4IR"
      },
      "outputs": [],
      "source": [
        "dataset['PreviousSalary'] = dataset['PreviousSalary'].str.replace(',','.').astype(float).astype(int)"
      ]
    },
    {
      "cell_type": "code",
      "execution_count": 7,
      "metadata": {
        "id": "aIDEm6aznNML"
      },
      "outputs": [
        {
          "data": {
            "text/html": [
              "<div>\n",
              "<style scoped>\n",
              "    .dataframe tbody tr th:only-of-type {\n",
              "        vertical-align: middle;\n",
              "    }\n",
              "\n",
              "    .dataframe tbody tr th {\n",
              "        vertical-align: top;\n",
              "    }\n",
              "\n",
              "    .dataframe thead th {\n",
              "        text-align: right;\n",
              "    }\n",
              "</style>\n",
              "<table border=\"1\" class=\"dataframe\">\n",
              "  <thead>\n",
              "    <tr style=\"text-align: right;\">\n",
              "      <th></th>\n",
              "      <th>Age</th>\n",
              "      <th>Accessibility</th>\n",
              "      <th>EdLevel</th>\n",
              "      <th>Employment</th>\n",
              "      <th>Gender</th>\n",
              "      <th>MentalHealth</th>\n",
              "      <th>MainBranch</th>\n",
              "      <th>YearsCode</th>\n",
              "      <th>Country</th>\n",
              "      <th>PreviousSalary</th>\n",
              "      <th>ComputerSkills</th>\n",
              "      <th>Employed</th>\n",
              "    </tr>\n",
              "  </thead>\n",
              "  <tbody>\n",
              "    <tr>\n",
              "      <th>0</th>\n",
              "      <td>&lt;35</td>\n",
              "      <td>No</td>\n",
              "      <td>Master</td>\n",
              "      <td>1</td>\n",
              "      <td>Man</td>\n",
              "      <td>No</td>\n",
              "      <td>Dev</td>\n",
              "      <td>8</td>\n",
              "      <td>Afghanistan</td>\n",
              "      <td>9792</td>\n",
              "      <td>9</td>\n",
              "      <td>0</td>\n",
              "    </tr>\n",
              "    <tr>\n",
              "      <th>1</th>\n",
              "      <td>&lt;35</td>\n",
              "      <td>No</td>\n",
              "      <td>Undergraduate</td>\n",
              "      <td>1</td>\n",
              "      <td>Man</td>\n",
              "      <td>Yes</td>\n",
              "      <td>Dev</td>\n",
              "      <td>5</td>\n",
              "      <td>Nepal</td>\n",
              "      <td>4200</td>\n",
              "      <td>9</td>\n",
              "      <td>0</td>\n",
              "    </tr>\n",
              "    <tr>\n",
              "      <th>2</th>\n",
              "      <td>&lt;35</td>\n",
              "      <td>No</td>\n",
              "      <td>Undergraduate</td>\n",
              "      <td>1</td>\n",
              "      <td>Man</td>\n",
              "      <td>No</td>\n",
              "      <td>Dev</td>\n",
              "      <td>6</td>\n",
              "      <td>Nepal</td>\n",
              "      <td>4200</td>\n",
              "      <td>9</td>\n",
              "      <td>1</td>\n",
              "    </tr>\n",
              "    <tr>\n",
              "      <th>3</th>\n",
              "      <td>&lt;35</td>\n",
              "      <td>Yes</td>\n",
              "      <td>Undergraduate</td>\n",
              "      <td>1</td>\n",
              "      <td>Man</td>\n",
              "      <td>No</td>\n",
              "      <td>Dev</td>\n",
              "      <td>3</td>\n",
              "      <td>Pakistan</td>\n",
              "      <td>3108</td>\n",
              "      <td>9</td>\n",
              "      <td>0</td>\n",
              "    </tr>\n",
              "    <tr>\n",
              "      <th>4</th>\n",
              "      <td>&lt;35</td>\n",
              "      <td>No</td>\n",
              "      <td>Undergraduate</td>\n",
              "      <td>1</td>\n",
              "      <td>Man</td>\n",
              "      <td>No</td>\n",
              "      <td>Dev</td>\n",
              "      <td>5</td>\n",
              "      <td>Pakistan</td>\n",
              "      <td>3108</td>\n",
              "      <td>9</td>\n",
              "      <td>0</td>\n",
              "    </tr>\n",
              "  </tbody>\n",
              "</table>\n",
              "</div>"
            ],
            "text/plain": [
              "   Age Accessibility        EdLevel  Employment Gender MentalHealth  \\\n",
              "0  <35            No         Master           1    Man           No   \n",
              "1  <35            No  Undergraduate           1    Man          Yes   \n",
              "2  <35            No  Undergraduate           1    Man           No   \n",
              "3  <35           Yes  Undergraduate           1    Man           No   \n",
              "4  <35            No  Undergraduate           1    Man           No   \n",
              "\n",
              "  MainBranch  YearsCode      Country  PreviousSalary  ComputerSkills  Employed  \n",
              "0        Dev          8  Afghanistan            9792               9         0  \n",
              "1        Dev          5        Nepal            4200               9         0  \n",
              "2        Dev          6        Nepal            4200               9         1  \n",
              "3        Dev          3     Pakistan            3108               9         0  \n",
              "4        Dev          5     Pakistan            3108               9         0  "
            ]
          },
          "execution_count": 7,
          "metadata": {},
          "output_type": "execute_result"
        }
      ],
      "source": [
        "dataset.head()"
      ]
    },
    {
      "cell_type": "code",
      "execution_count": 8,
      "metadata": {
        "id": "bPG8PbMQTsFU"
      },
      "outputs": [],
      "source": [
        "def Countries(country):\n",
        "\n",
        "    if country in ['Antigua and Barbuda', 'Bahamas', 'Barbados', 'Belize', 'Canada', 'Costa Rica',\n",
        "    'Cuba', 'Dominica', 'Dominican Republic', 'El Salvador', 'Grenada', 'Guatemala',\n",
        "    'Haiti', 'Honduras', 'Jamaica', 'Mexico', 'Nicaragua', 'Panama', 'Saint Kitts and Nevis',\n",
        "    'Saint Lucia', 'Saint Vincent and the Grenadines', 'Trinidad and Tobago', 'United States of America']:\n",
        "        return 'North_America'\n",
        "\n",
        "    elif country in ['Albania', 'Andorra', 'Austria', 'Belarus', 'Belgium', 'Bosnia and Herzegovina',\n",
        "    'Bulgaria', 'Croatia', 'Czech Republic', 'Denmark', 'Estonia', 'Finland',\n",
        "    'France', 'Germany', 'Greece', 'Hungary', 'Iceland', 'Ireland', 'Italy',\n",
        "    'Kosovo', 'Latvia', 'Liechtenstein', 'Lithuania', 'Luxembourg', 'Malta',\n",
        "    'Moldova', 'Monaco', 'Montenegro', 'Netherlands', 'North Macedonia', 'Norway',\n",
        "    'Poland', 'Portugal', 'Romania', 'Russia', 'San Marino', 'Serbia', 'Slovakia',\n",
        "    'Slovenia', 'Spain', 'Sweden', 'Switzerland', 'Ukraine', 'United Kingdom', 'Vatican City']:\n",
        "        return 'Europe'\n",
        "\n",
        "    elif country in ['Argentina', 'Bolivia', 'Brazil', 'Chile', 'Colombia', 'Ecuador', 'Guyana',\n",
        "    'Paraguay', 'Peru', 'Suriname', 'Uruguay', 'Venezuela']:\n",
        "        return 'South_America'\n",
        "\n",
        "    elif country in ['Afghanistan', 'Armenia', 'Azerbaijan', 'Bahrain', 'Bangladesh', 'Bhutan',\n",
        "    'Brunei', 'Cambodia', 'China', 'Cyprus', 'Georgia', 'India', 'Indonesia',\n",
        "    'Iran, Islamic Republic of...', 'Iraq', 'Israel', 'Japan', 'Jordan',\n",
        "    'Kazakhstan', 'Kuwait', 'Kyrgyzstan', 'Laos', 'Lebanon', 'Malaysia', 'Maldives',\n",
        "    'Mongolia', 'Myanmar (Burma)', 'Nepal', 'North Korea', 'Oman', 'Pakistan',\n",
        "    'Palestine', 'Philippines', 'Qatar', 'Russia', 'Saudi Arabia', 'Singapore',\n",
        "    'South Korea', 'Sri Lanka', 'Syria', 'Taiwan', 'Tajikistan', 'Thailand',\n",
        "    'Timor-Leste', 'Turkey', 'Turkmenistan', 'United Arab Emirates', 'Uzbekistan',\n",
        "    'Vietnam', 'Yemen']:\n",
        "        return 'Asia'\n",
        "\n",
        "    elif country in ['Australia', 'Fiji', 'Kiribati', 'Marshall Islands', 'Micronesia', 'Nauru',\n",
        "    'New Zealand', 'Palau', 'Papua New Guinea', 'Samoa', 'Solomon Islands',\n",
        "    'Tonga', 'Tuvalu', 'Vanuatu']:\n",
        "        return 'Oceania'\n",
        "\n",
        "    elif country in ['Algeria', 'Angola', 'Benin', 'Botswana', 'Burkina Faso', 'Burundi',\n",
        "    'Cabo Verde', 'Cameroon', 'Central African Republic', 'Chad', 'Comoros',\n",
        "    'Congo, Republic of the...', 'Congo, Democratic Republic of the...', 'Djibouti',\n",
        "    'Egypt', 'Equatorial Guinea', 'Eritrea', 'Eswatini', 'Ethiopia', 'Gabon',\n",
        "    'Gambia', 'Ghana', 'Guinea', 'Guinea-Bissau', 'Ivory Coast (Côte d\\'Ivoire)', 'Kenya',\n",
        "    'Lesotho', 'Liberia', 'Libya', 'Madagascar', 'Malawi', 'Mali', 'Mauritania',\n",
        "    'Mauritius', 'Morocco', 'Mozambique', 'Namibia', 'Niger', 'Nigeria', 'Rwanda',\n",
        "    'Sao Tome and Principe', 'Senegal', 'Seychelles', 'Sierra Leone', 'Somalia',\n",
        "    'South Africa', 'South Sudan', 'Sudan', 'Tanzania', 'Togo', 'Tunisia', 'Uganda',\n",
        "    'Zambia', 'Zimbabwe']:\n",
        "        return 'Africa'\n",
        "\n",
        "    else:\n",
        "        return 'Others'\n",
        "\n",
        "dataset['Continent'] = dataset['Country'].apply(Countries)"
      ]
    },
    {
      "cell_type": "code",
      "execution_count": 9,
      "metadata": {
        "colab": {
          "base_uri": "https://localhost:8080/",
          "height": 444
        },
        "collapsed": true,
        "id": "8dR81FPq1cum",
        "outputId": "e47c3911-d747-426a-c420-523d248ff928"
      },
      "outputs": [
        {
          "data": {
            "image/png": "[encoded data removed]",
            "text/plain": [
              "<Figure size 500x500 with 1 Axes>"
            ]
          },
          "metadata": {},
          "output_type": "display_data"
        }
      ],
      "source": [
        "continent_counts = dataset['Continent'].value_counts()\n",
        "\n",
        "plt.figure(figsize=(5, 5))\n",
        "plt.pie(continent_counts, labels=continent_counts.index, autopct='%1.1f%%', startangle=140, colors=['skyblue', 'lightcoral', 'lightgreen', 'lightgray', 'lightpink', 'lightyellow'])\n",
        "plt.title('Distribution of Countries by Continent')\n",
        "plt.axis('equal')  # Equal aspect ratio ensures that pie is drawn as a circle.\n",
        "\n",
        "# Display the plot\n",
        "plt.show()"
      ]
    },
    {
      "cell_type": "code",
      "execution_count": 10,
      "metadata": {
        "colab": {
          "base_uri": "https://localhost:8080/"
        },
        "id": "mQfnhGa9T3O6",
        "outputId": "314e48fa-a880-4784-8712-f9b7670408e1"
      },
      "outputs": [
        {
          "data": {
            "text/plain": [
              "array(['Asia', 'Europe', 'North_America', 'Others', 'South_America',\n",
              "       'Africa', 'Oceania'], dtype=object)"
            ]
          },
          "execution_count": 10,
          "metadata": {},
          "output_type": "execute_result"
        }
      ],
      "source": [
        "dataset.Continent.unique()"
      ]
    },
    {
      "cell_type": "code",
      "execution_count": 11,
      "metadata": {
        "id": "JvaYKHA0V6Rr"
      },
      "outputs": [],
      "source": [
        "dataset.drop(columns = 'Country', inplace = True)"
      ]
    },
    {
      "cell_type": "code",
      "execution_count": 12,
      "metadata": {
        "id": "BOOXqdZAWqXB"
      },
      "outputs": [
        {
          "data": {
            "text/html": [
              "<div>\n",
              "<style scoped>\n",
              "    .dataframe tbody tr th:only-of-type {\n",
              "        vertical-align: middle;\n",
              "    }\n",
              "\n",
              "    .dataframe tbody tr th {\n",
              "        vertical-align: top;\n",
              "    }\n",
              "\n",
              "    .dataframe thead th {\n",
              "        text-align: right;\n",
              "    }\n",
              "</style>\n",
              "<table border=\"1\" class=\"dataframe\">\n",
              "  <thead>\n",
              "    <tr style=\"text-align: right;\">\n",
              "      <th></th>\n",
              "      <th>Age</th>\n",
              "      <th>Accessibility</th>\n",
              "      <th>EdLevel</th>\n",
              "      <th>Employment</th>\n",
              "      <th>Gender</th>\n",
              "      <th>MentalHealth</th>\n",
              "      <th>MainBranch</th>\n",
              "      <th>YearsCode</th>\n",
              "      <th>PreviousSalary</th>\n",
              "      <th>ComputerSkills</th>\n",
              "      <th>Employed</th>\n",
              "      <th>Continent</th>\n",
              "    </tr>\n",
              "  </thead>\n",
              "  <tbody>\n",
              "    <tr>\n",
              "      <th>0</th>\n",
              "      <td>&lt;35</td>\n",
              "      <td>No</td>\n",
              "      <td>Master</td>\n",
              "      <td>1</td>\n",
              "      <td>Man</td>\n",
              "      <td>No</td>\n",
              "      <td>Dev</td>\n",
              "      <td>8</td>\n",
              "      <td>9792</td>\n",
              "      <td>9</td>\n",
              "      <td>0</td>\n",
              "      <td>Asia</td>\n",
              "    </tr>\n",
              "    <tr>\n",
              "      <th>1</th>\n",
              "      <td>&lt;35</td>\n",
              "      <td>No</td>\n",
              "      <td>Undergraduate</td>\n",
              "      <td>1</td>\n",
              "      <td>Man</td>\n",
              "      <td>Yes</td>\n",
              "      <td>Dev</td>\n",
              "      <td>5</td>\n",
              "      <td>4200</td>\n",
              "      <td>9</td>\n",
              "      <td>0</td>\n",
              "      <td>Asia</td>\n",
              "    </tr>\n",
              "    <tr>\n",
              "      <th>2</th>\n",
              "      <td>&lt;35</td>\n",
              "      <td>No</td>\n",
              "      <td>Undergraduate</td>\n",
              "      <td>1</td>\n",
              "      <td>Man</td>\n",
              "      <td>No</td>\n",
              "      <td>Dev</td>\n",
              "      <td>6</td>\n",
              "      <td>4200</td>\n",
              "      <td>9</td>\n",
              "      <td>1</td>\n",
              "      <td>Asia</td>\n",
              "    </tr>\n",
              "    <tr>\n",
              "      <th>3</th>\n",
              "      <td>&lt;35</td>\n",
              "      <td>Yes</td>\n",
              "      <td>Undergraduate</td>\n",
              "      <td>1</td>\n",
              "      <td>Man</td>\n",
              "      <td>No</td>\n",
              "      <td>Dev</td>\n",
              "      <td>3</td>\n",
              "      <td>3108</td>\n",
              "      <td>9</td>\n",
              "      <td>0</td>\n",
              "      <td>Asia</td>\n",
              "    </tr>\n",
              "    <tr>\n",
              "      <th>4</th>\n",
              "      <td>&lt;35</td>\n",
              "      <td>No</td>\n",
              "      <td>Undergraduate</td>\n",
              "      <td>1</td>\n",
              "      <td>Man</td>\n",
              "      <td>No</td>\n",
              "      <td>Dev</td>\n",
              "      <td>5</td>\n",
              "      <td>3108</td>\n",
              "      <td>9</td>\n",
              "      <td>0</td>\n",
              "      <td>Asia</td>\n",
              "    </tr>\n",
              "  </tbody>\n",
              "</table>\n",
              "</div>"
            ],
            "text/plain": [
              "   Age Accessibility        EdLevel  Employment Gender MentalHealth  \\\n",
              "0  <35            No         Master           1    Man           No   \n",
              "1  <35            No  Undergraduate           1    Man          Yes   \n",
              "2  <35            No  Undergraduate           1    Man           No   \n",
              "3  <35           Yes  Undergraduate           1    Man           No   \n",
              "4  <35            No  Undergraduate           1    Man           No   \n",
              "\n",
              "  MainBranch  YearsCode  PreviousSalary  ComputerSkills  Employed Continent  \n",
              "0        Dev          8            9792               9         0      Asia  \n",
              "1        Dev          5            4200               9         0      Asia  \n",
              "2        Dev          6            4200               9         1      Asia  \n",
              "3        Dev          3            3108               9         0      Asia  \n",
              "4        Dev          5            3108               9         0      Asia  "
            ]
          },
          "execution_count": 12,
          "metadata": {},
          "output_type": "execute_result"
        }
      ],
      "source": [
        "dataset.head()"
      ]
    },
    {
      "cell_type": "markdown",
      "metadata": {
        "id": "YaL3vwuyXkML"
      },
      "source": [
        "# Encoding categorical data"
      ]
    },
    {
      "cell_type": "code",
      "execution_count": 13,
      "metadata": {
        "id": "e5aQ_JBBX-A-"
      },
      "outputs": [],
      "source": [
        "category_cols = ['Age', 'Accessibility', 'MentalHealth',\n",
        "       'MainBranch']"
      ]
    },
    {
      "cell_type": "code",
      "execution_count": 14,
      "metadata": {
        "colab": {
          "base_uri": "https://localhost:8080/",
          "height": 439
        },
        "id": "bI71GRNOX6kk",
        "outputId": "d09dab63-2afc-4bc0-8364-4e6d7f048bfc"
      },
      "outputs": [
        {
          "data": {
            "text/html": [
              "<div>\n",
              "<style scoped>\n",
              "    .dataframe tbody tr th:only-of-type {\n",
              "        vertical-align: middle;\n",
              "    }\n",
              "\n",
              "    .dataframe tbody tr th {\n",
              "        vertical-align: top;\n",
              "    }\n",
              "\n",
              "    .dataframe thead th {\n",
              "        text-align: right;\n",
              "    }\n",
              "</style>\n",
              "<table border=\"1\" class=\"dataframe\">\n",
              "  <thead>\n",
              "    <tr style=\"text-align: right;\">\n",
              "      <th></th>\n",
              "      <th>Age</th>\n",
              "      <th>Accessibility</th>\n",
              "      <th>EdLevel</th>\n",
              "      <th>Employment</th>\n",
              "      <th>Gender</th>\n",
              "      <th>MentalHealth</th>\n",
              "      <th>MainBranch</th>\n",
              "      <th>YearsCode</th>\n",
              "      <th>PreviousSalary</th>\n",
              "      <th>ComputerSkills</th>\n",
              "      <th>Employed</th>\n",
              "      <th>Continent</th>\n",
              "    </tr>\n",
              "  </thead>\n",
              "  <tbody>\n",
              "    <tr>\n",
              "      <th>0</th>\n",
              "      <td>0</td>\n",
              "      <td>0</td>\n",
              "      <td>Master</td>\n",
              "      <td>1</td>\n",
              "      <td>Man</td>\n",
              "      <td>0</td>\n",
              "      <td>0</td>\n",
              "      <td>8</td>\n",
              "      <td>9792</td>\n",
              "      <td>9</td>\n",
              "      <td>0</td>\n",
              "      <td>Asia</td>\n",
              "    </tr>\n",
              "    <tr>\n",
              "      <th>1</th>\n",
              "      <td>0</td>\n",
              "      <td>0</td>\n",
              "      <td>Undergraduate</td>\n",
              "      <td>1</td>\n",
              "      <td>Man</td>\n",
              "      <td>1</td>\n",
              "      <td>0</td>\n",
              "      <td>5</td>\n",
              "      <td>4200</td>\n",
              "      <td>9</td>\n",
              "      <td>0</td>\n",
              "      <td>Asia</td>\n",
              "    </tr>\n",
              "    <tr>\n",
              "      <th>2</th>\n",
              "      <td>0</td>\n",
              "      <td>0</td>\n",
              "      <td>Undergraduate</td>\n",
              "      <td>1</td>\n",
              "      <td>Man</td>\n",
              "      <td>0</td>\n",
              "      <td>0</td>\n",
              "      <td>6</td>\n",
              "      <td>4200</td>\n",
              "      <td>9</td>\n",
              "      <td>1</td>\n",
              "      <td>Asia</td>\n",
              "    </tr>\n",
              "    <tr>\n",
              "      <th>3</th>\n",
              "      <td>0</td>\n",
              "      <td>1</td>\n",
              "      <td>Undergraduate</td>\n",
              "      <td>1</td>\n",
              "      <td>Man</td>\n",
              "      <td>0</td>\n",
              "      <td>0</td>\n",
              "      <td>3</td>\n",
              "      <td>3108</td>\n",
              "      <td>9</td>\n",
              "      <td>0</td>\n",
              "      <td>Asia</td>\n",
              "    </tr>\n",
              "    <tr>\n",
              "      <th>4</th>\n",
              "      <td>0</td>\n",
              "      <td>0</td>\n",
              "      <td>Undergraduate</td>\n",
              "      <td>1</td>\n",
              "      <td>Man</td>\n",
              "      <td>0</td>\n",
              "      <td>0</td>\n",
              "      <td>5</td>\n",
              "      <td>3108</td>\n",
              "      <td>9</td>\n",
              "      <td>0</td>\n",
              "      <td>Asia</td>\n",
              "    </tr>\n",
              "    <tr>\n",
              "      <th>...</th>\n",
              "      <td>...</td>\n",
              "      <td>...</td>\n",
              "      <td>...</td>\n",
              "      <td>...</td>\n",
              "      <td>...</td>\n",
              "      <td>...</td>\n",
              "      <td>...</td>\n",
              "      <td>...</td>\n",
              "      <td>...</td>\n",
              "      <td>...</td>\n",
              "      <td>...</td>\n",
              "      <td>...</td>\n",
              "    </tr>\n",
              "    <tr>\n",
              "      <th>73457</th>\n",
              "      <td>0</td>\n",
              "      <td>1</td>\n",
              "      <td>Master</td>\n",
              "      <td>1</td>\n",
              "      <td>NonBinary</td>\n",
              "      <td>1</td>\n",
              "      <td>0</td>\n",
              "      <td>16</td>\n",
              "      <td>41077</td>\n",
              "      <td>44</td>\n",
              "      <td>1</td>\n",
              "      <td>Europe</td>\n",
              "    </tr>\n",
              "    <tr>\n",
              "      <th>73458</th>\n",
              "      <td>0</td>\n",
              "      <td>0</td>\n",
              "      <td>Master</td>\n",
              "      <td>1</td>\n",
              "      <td>NonBinary</td>\n",
              "      <td>0</td>\n",
              "      <td>0</td>\n",
              "      <td>8</td>\n",
              "      <td>62052</td>\n",
              "      <td>50</td>\n",
              "      <td>1</td>\n",
              "      <td>Europe</td>\n",
              "    </tr>\n",
              "    <tr>\n",
              "      <th>73459</th>\n",
              "      <td>1</td>\n",
              "      <td>0</td>\n",
              "      <td>NoHigherEd</td>\n",
              "      <td>1</td>\n",
              "      <td>NonBinary</td>\n",
              "      <td>0</td>\n",
              "      <td>0</td>\n",
              "      <td>5</td>\n",
              "      <td>1573</td>\n",
              "      <td>91</td>\n",
              "      <td>1</td>\n",
              "      <td>Others</td>\n",
              "    </tr>\n",
              "    <tr>\n",
              "      <th>73460</th>\n",
              "      <td>0</td>\n",
              "      <td>0</td>\n",
              "      <td>Other</td>\n",
              "      <td>0</td>\n",
              "      <td>NonBinary</td>\n",
              "      <td>0</td>\n",
              "      <td>0</td>\n",
              "      <td>13</td>\n",
              "      <td>90758</td>\n",
              "      <td>47</td>\n",
              "      <td>1</td>\n",
              "      <td>North_America</td>\n",
              "    </tr>\n",
              "    <tr>\n",
              "      <th>73461</th>\n",
              "      <td>1</td>\n",
              "      <td>0</td>\n",
              "      <td>NoHigherEd</td>\n",
              "      <td>0</td>\n",
              "      <td>NonBinary</td>\n",
              "      <td>0</td>\n",
              "      <td>1</td>\n",
              "      <td>6</td>\n",
              "      <td>44965</td>\n",
              "      <td>0</td>\n",
              "      <td>0</td>\n",
              "      <td>Asia</td>\n",
              "    </tr>\n",
              "  </tbody>\n",
              "</table>\n",
              "<p>73462 rows × 12 columns</p>\n",
              "</div>"
            ],
            "text/plain": [
              "       Age  Accessibility        EdLevel  Employment     Gender  MentalHealth  \\\n",
              "0        0              0         Master           1        Man             0   \n",
              "1        0              0  Undergraduate           1        Man             1   \n",
              "2        0              0  Undergraduate           1        Man             0   \n",
              "3        0              1  Undergraduate           1        Man             0   \n",
              "4        0              0  Undergraduate           1        Man             0   \n",
              "...    ...            ...            ...         ...        ...           ...   \n",
              "73457    0              1         Master           1  NonBinary             1   \n",
              "73458    0              0         Master           1  NonBinary             0   \n",
              "73459    1              0     NoHigherEd           1  NonBinary             0   \n",
              "73460    0              0          Other           0  NonBinary             0   \n",
              "73461    1              0     NoHigherEd           0  NonBinary             0   \n",
              "\n",
              "       MainBranch  YearsCode  PreviousSalary  ComputerSkills  Employed  \\\n",
              "0               0          8            9792               9         0   \n",
              "1               0          5            4200               9         0   \n",
              "2               0          6            4200               9         1   \n",
              "3               0          3            3108               9         0   \n",
              "4               0          5            3108               9         0   \n",
              "...           ...        ...             ...             ...       ...   \n",
              "73457           0         16           41077              44         1   \n",
              "73458           0          8           62052              50         1   \n",
              "73459           0          5            1573              91         1   \n",
              "73460           0         13           90758              47         1   \n",
              "73461           1          6           44965               0         0   \n",
              "\n",
              "           Continent  \n",
              "0               Asia  \n",
              "1               Asia  \n",
              "2               Asia  \n",
              "3               Asia  \n",
              "4               Asia  \n",
              "...              ...  \n",
              "73457         Europe  \n",
              "73458         Europe  \n",
              "73459         Others  \n",
              "73460  North_America  \n",
              "73461           Asia  \n",
              "\n",
              "[73462 rows x 12 columns]"
            ]
          },
          "execution_count": 14,
          "metadata": {},
          "output_type": "execute_result"
        }
      ],
      "source": [
        "from sklearn.preprocessing import LabelEncoder\n",
        "le = LabelEncoder()\n",
        "dataset[(category_cols)] = dataset[category_cols].apply(le.fit_transform)\n",
        "dataset"
      ]
    },
    {
      "cell_type": "code",
      "execution_count": 15,
      "metadata": {
        "id": "2GYOYun2YmBE"
      },
      "outputs": [],
      "source": [
        "categorical_cols = ['EdLevel', 'Gender', 'Continent',]"
      ]
    },
    {
      "cell_type": "code",
      "execution_count": 16,
      "metadata": {
        "id": "YgH4oc4DZtHe"
      },
      "outputs": [],
      "source": [
        "from os import X_OK\n",
        "\n",
        "from sklearn.compose import ColumnTransformer\n",
        "from sklearn.preprocessing import OneHotEncoder\n",
        "\n",
        "ct = ColumnTransformer(transformers=[('encoder',OneHotEncoder(),categorical_cols)],remainder='passthrough')\n",
        "dataset = np.array(ct.fit_transform(dataset))\n"
      ]
    },
    {
      "cell_type": "code",
      "execution_count": 17,
      "metadata": {
        "colab": {
          "base_uri": "https://localhost:8080/",
          "height": 253
        },
        "id": "9oqr4E8oaVe3",
        "outputId": "606fb66f-e03d-4106-fbb8-10ad932b3add"
      },
      "outputs": [
        {
          "data": {
            "text/html": [
              "<div>\n",
              "<style scoped>\n",
              "    .dataframe tbody tr th:only-of-type {\n",
              "        vertical-align: middle;\n",
              "    }\n",
              "\n",
              "    .dataframe tbody tr th {\n",
              "        vertical-align: top;\n",
              "    }\n",
              "\n",
              "    .dataframe thead th {\n",
              "        text-align: right;\n",
              "    }\n",
              "</style>\n",
              "<table border=\"1\" class=\"dataframe\">\n",
              "  <thead>\n",
              "    <tr style=\"text-align: right;\">\n",
              "      <th></th>\n",
              "      <th>0</th>\n",
              "      <th>1</th>\n",
              "      <th>2</th>\n",
              "      <th>3</th>\n",
              "      <th>4</th>\n",
              "      <th>5</th>\n",
              "      <th>6</th>\n",
              "      <th>7</th>\n",
              "      <th>8</th>\n",
              "      <th>9</th>\n",
              "      <th>...</th>\n",
              "      <th>14</th>\n",
              "      <th>15</th>\n",
              "      <th>16</th>\n",
              "      <th>17</th>\n",
              "      <th>18</th>\n",
              "      <th>19</th>\n",
              "      <th>20</th>\n",
              "      <th>21</th>\n",
              "      <th>22</th>\n",
              "      <th>23</th>\n",
              "    </tr>\n",
              "  </thead>\n",
              "  <tbody>\n",
              "    <tr>\n",
              "      <th>0</th>\n",
              "      <td>1.0</td>\n",
              "      <td>0.0</td>\n",
              "      <td>0.0</td>\n",
              "      <td>0.0</td>\n",
              "      <td>0.0</td>\n",
              "      <td>1.0</td>\n",
              "      <td>0.0</td>\n",
              "      <td>0.0</td>\n",
              "      <td>0.0</td>\n",
              "      <td>1.0</td>\n",
              "      <td>...</td>\n",
              "      <td>0.0</td>\n",
              "      <td>0.0</td>\n",
              "      <td>0.0</td>\n",
              "      <td>1.0</td>\n",
              "      <td>0.0</td>\n",
              "      <td>0.0</td>\n",
              "      <td>8.0</td>\n",
              "      <td>9792.0</td>\n",
              "      <td>9.0</td>\n",
              "      <td>0.0</td>\n",
              "    </tr>\n",
              "    <tr>\n",
              "      <th>1</th>\n",
              "      <td>0.0</td>\n",
              "      <td>0.0</td>\n",
              "      <td>0.0</td>\n",
              "      <td>0.0</td>\n",
              "      <td>1.0</td>\n",
              "      <td>1.0</td>\n",
              "      <td>0.0</td>\n",
              "      <td>0.0</td>\n",
              "      <td>0.0</td>\n",
              "      <td>1.0</td>\n",
              "      <td>...</td>\n",
              "      <td>0.0</td>\n",
              "      <td>0.0</td>\n",
              "      <td>0.0</td>\n",
              "      <td>1.0</td>\n",
              "      <td>1.0</td>\n",
              "      <td>0.0</td>\n",
              "      <td>5.0</td>\n",
              "      <td>4200.0</td>\n",
              "      <td>9.0</td>\n",
              "      <td>0.0</td>\n",
              "    </tr>\n",
              "    <tr>\n",
              "      <th>2</th>\n",
              "      <td>0.0</td>\n",
              "      <td>0.0</td>\n",
              "      <td>0.0</td>\n",
              "      <td>0.0</td>\n",
              "      <td>1.0</td>\n",
              "      <td>1.0</td>\n",
              "      <td>0.0</td>\n",
              "      <td>0.0</td>\n",
              "      <td>0.0</td>\n",
              "      <td>1.0</td>\n",
              "      <td>...</td>\n",
              "      <td>0.0</td>\n",
              "      <td>0.0</td>\n",
              "      <td>0.0</td>\n",
              "      <td>1.0</td>\n",
              "      <td>0.0</td>\n",
              "      <td>0.0</td>\n",
              "      <td>6.0</td>\n",
              "      <td>4200.0</td>\n",
              "      <td>9.0</td>\n",
              "      <td>1.0</td>\n",
              "    </tr>\n",
              "    <tr>\n",
              "      <th>3</th>\n",
              "      <td>0.0</td>\n",
              "      <td>0.0</td>\n",
              "      <td>0.0</td>\n",
              "      <td>0.0</td>\n",
              "      <td>1.0</td>\n",
              "      <td>1.0</td>\n",
              "      <td>0.0</td>\n",
              "      <td>0.0</td>\n",
              "      <td>0.0</td>\n",
              "      <td>1.0</td>\n",
              "      <td>...</td>\n",
              "      <td>0.0</td>\n",
              "      <td>0.0</td>\n",
              "      <td>1.0</td>\n",
              "      <td>1.0</td>\n",
              "      <td>0.0</td>\n",
              "      <td>0.0</td>\n",
              "      <td>3.0</td>\n",
              "      <td>3108.0</td>\n",
              "      <td>9.0</td>\n",
              "      <td>0.0</td>\n",
              "    </tr>\n",
              "    <tr>\n",
              "      <th>4</th>\n",
              "      <td>0.0</td>\n",
              "      <td>0.0</td>\n",
              "      <td>0.0</td>\n",
              "      <td>0.0</td>\n",
              "      <td>1.0</td>\n",
              "      <td>1.0</td>\n",
              "      <td>0.0</td>\n",
              "      <td>0.0</td>\n",
              "      <td>0.0</td>\n",
              "      <td>1.0</td>\n",
              "      <td>...</td>\n",
              "      <td>0.0</td>\n",
              "      <td>0.0</td>\n",
              "      <td>0.0</td>\n",
              "      <td>1.0</td>\n",
              "      <td>0.0</td>\n",
              "      <td>0.0</td>\n",
              "      <td>5.0</td>\n",
              "      <td>3108.0</td>\n",
              "      <td>9.0</td>\n",
              "      <td>0.0</td>\n",
              "    </tr>\n",
              "  </tbody>\n",
              "</table>\n",
              "<p>5 rows × 24 columns</p>\n",
              "</div>"
            ],
            "text/plain": [
              "    0    1    2    3    4    5    6    7    8    9   ...   14   15   16   17  \\\n",
              "0  1.0  0.0  0.0  0.0  0.0  1.0  0.0  0.0  0.0  1.0  ...  0.0  0.0  0.0  1.0   \n",
              "1  0.0  0.0  0.0  0.0  1.0  1.0  0.0  0.0  0.0  1.0  ...  0.0  0.0  0.0  1.0   \n",
              "2  0.0  0.0  0.0  0.0  1.0  1.0  0.0  0.0  0.0  1.0  ...  0.0  0.0  0.0  1.0   \n",
              "3  0.0  0.0  0.0  0.0  1.0  1.0  0.0  0.0  0.0  1.0  ...  0.0  0.0  1.0  1.0   \n",
              "4  0.0  0.0  0.0  0.0  1.0  1.0  0.0  0.0  0.0  1.0  ...  0.0  0.0  0.0  1.0   \n",
              "\n",
              "    18   19   20      21   22   23  \n",
              "0  0.0  0.0  8.0  9792.0  9.0  0.0  \n",
              "1  1.0  0.0  5.0  4200.0  9.0  0.0  \n",
              "2  0.0  0.0  6.0  4200.0  9.0  1.0  \n",
              "3  0.0  0.0  3.0  3108.0  9.0  0.0  \n",
              "4  0.0  0.0  5.0  3108.0  9.0  0.0  \n",
              "\n",
              "[5 rows x 24 columns]"
            ]
          },
          "execution_count": 17,
          "metadata": {},
          "output_type": "execute_result"
        }
      ],
      "source": [
        "dataset = pd.DataFrame(dataset)\n",
        "dataset.head()"
      ]
    },
    {
      "cell_type": "code",
      "execution_count": 18,
      "metadata": {
        "id": "1rATxHalalGs"
      },
      "outputs": [],
      "source": [
        "x = dataset.iloc[:,:-1].values\n",
        "y = dataset.iloc[:,-1].values"
      ]
    },
    {
      "cell_type": "markdown",
      "metadata": {
        "id": "t1Sy31EkavD5"
      },
      "source": [
        "# Splitting the dataset into the Training set and Test set"
      ]
    },
    {
      "cell_type": "code",
      "execution_count": 19,
      "metadata": {
        "id": "m-sbl397a0iO"
      },
      "outputs": [],
      "source": [
        "from sklearn.model_selection import train_test_split\n",
        "x_train, x_test, y_train, y_test = train_test_split(x, y, test_size = 0.2, random_state = 23 )"
      ]
    },
    {
      "cell_type": "markdown",
      "metadata": {
        "id": "RzV_f_C4bDKa"
      },
      "source": [
        "# Feature Scaling"
      ]
    },
    {
      "cell_type": "code",
      "execution_count": 20,
      "metadata": {
        "id": "xMwkq1brbF7v"
      },
      "outputs": [],
      "source": [
        "from sklearn.preprocessing import StandardScaler\n",
        "sc = StandardScaler()\n",
        "x_train[:,20:] = sc.fit_transform(x_train[:,20:])\n",
        "x_test[:,20:] = sc.transform(x_test[:,20:])"
      ]
    },
    {
      "cell_type": "markdown",
      "metadata": {
        "id": "TZUNq2FmrUSp"
      },
      "source": [
        "# Training the Kernel-SVM on the Training set"
      ]
    },
    {
      "cell_type": "code",
      "execution_count": 22,
      "metadata": {
        "colab": {
          "base_uri": "https://localhost:8080/",
          "height": 74
        },
        "id": "uj2Hgj4OrYSL",
        "outputId": "ed08e2a7-ad5a-4208-c096-fbeb830136f9"
      },
      "outputs": [
        {
          "data": {
            "text/html": [
              "<style>#sk-container-id-1 {color: black;}#sk-container-id-1 pre{padding: 0;}#sk-container-id-1 div.sk-toggleable {background-color: white;}#sk-container-id-1 label.sk-toggleable__label {cursor: pointer;display: block;width: 100%;margin-bottom: 0;padding: 0.3em;box-sizing: border-box;text-align: center;}#sk-container-id-1 label.sk-toggleable__label-arrow:before {content: \"▸\";float: left;margin-right: 0.25em;color: #696969;}#sk-container-id-1 label.sk-toggleable__label-arrow:hover:before {color: black;}#sk-container-id-1 div.sk-estimator:hover label.sk-toggleable__label-arrow:before {color: black;}#sk-container-id-1 div.sk-toggleable__content {max-height: 0;max-width: 0;overflow: hidden;text-align: left;background-color: #f0f8ff;}#sk-container-id-1 div.sk-toggleable__content pre {margin: 0.2em;color: black;border-radius: 0.25em;background-color: #f0f8ff;}#sk-container-id-1 input.sk-toggleable__control:checked~div.sk-toggleable__content {max-height: 200px;max-width: 100%;overflow: auto;}#sk-container-id-1 input.sk-toggleable__control:checked~label.sk-toggleable__label-arrow:before {content: \"▾\";}#sk-container-id-1 div.sk-estimator input.sk-toggleable__control:checked~label.sk-toggleable__label {background-color: #d4ebff;}#sk-container-id-1 div.sk-label input.sk-toggleable__control:checked~label.sk-toggleable__label {background-color: #d4ebff;}#sk-container-id-1 input.sk-hidden--visually {border: 0;clip: rect(1px 1px 1px 1px);clip: rect(1px, 1px, 1px, 1px);height: 1px;margin: -1px;overflow: hidden;padding: 0;position: absolute;width: 1px;}#sk-container-id-1 div.sk-estimator {font-family: monospace;background-color: #f0f8ff;border: 1px dotted black;border-radius: 0.25em;box-sizing: border-box;margin-bottom: 0.5em;}#sk-container-id-1 div.sk-estimator:hover {background-color: #d4ebff;}#sk-container-id-1 div.sk-parallel-item::after {content: \"\";width: 100%;border-bottom: 1px solid gray;flex-grow: 1;}#sk-container-id-1 div.sk-label:hover label.sk-toggleable__label {background-color: #d4ebff;}#sk-container-id-1 div.sk-serial::before {content: \"\";position: absolute;border-left: 1px solid gray;box-sizing: border-box;top: 0;bottom: 0;left: 50%;z-index: 0;}#sk-container-id-1 div.sk-serial {display: flex;flex-direction: column;align-items: center;background-color: white;padding-right: 0.2em;padding-left: 0.2em;position: relative;}#sk-container-id-1 div.sk-item {position: relative;z-index: 1;}#sk-container-id-1 div.sk-parallel {display: flex;align-items: stretch;justify-content: center;background-color: white;position: relative;}#sk-container-id-1 div.sk-item::before, #sk-container-id-1 div.sk-parallel-item::before {content: \"\";position: absolute;border-left: 1px solid gray;box-sizing: border-box;top: 0;bottom: 0;left: 50%;z-index: -1;}#sk-container-id-1 div.sk-parallel-item {display: flex;flex-direction: column;z-index: 1;position: relative;background-color: white;}#sk-container-id-1 div.sk-parallel-item:first-child::after {align-self: flex-end;width: 50%;}#sk-container-id-1 div.sk-parallel-item:last-child::after {align-self: flex-start;width: 50%;}#sk-container-id-1 div.sk-parallel-item:only-child::after {width: 0;}#sk-container-id-1 div.sk-dashed-wrapped {border: 1px dashed gray;margin: 0 0.4em 0.5em 0.4em;box-sizing: border-box;padding-bottom: 0.4em;background-color: white;}#sk-container-id-1 div.sk-label label {font-family: monospace;font-weight: bold;display: inline-block;line-height: 1.2em;}#sk-container-id-1 div.sk-label-container {text-align: center;}#sk-container-id-1 div.sk-container {/* jupyter's `normalize.less` sets `[hidden] { display: none; }` but bootstrap.min.css set `[hidden] { display: none !important; }` so we also need the `!important` here to be able to override the default hidden behavior on the sphinx rendered scikit-learn.org. See: https://github.com/scikit-learn/scikit-learn/issues/21755 */display: inline-block !important;position: relative;}#sk-container-id-1 div.sk-text-repr-fallback {display: none;}</style><div id=\"sk-container-id-1\" class=\"sk-top-container\"><div class=\"sk-text-repr-fallback\"><pre>SVC(random_state=0)</pre><b>In a Jupyter environment, please rerun this cell to show the HTML representation or trust the notebook. <br />On GitHub, the HTML representation is unable to render, please try loading this page with nbviewer.org.</b></div><div class=\"sk-container\" hidden><div class=\"sk-item\"><div class=\"sk-estimator sk-toggleable\"><input class=\"sk-toggleable__control sk-hidden--visually\" id=\"sk-estimator-id-1\" type=\"checkbox\" checked><label for=\"sk-estimator-id-1\" class=\"sk-toggleable__label sk-toggleable__label-arrow\">SVC</label><div class=\"sk-toggleable__content\"><pre>SVC(random_state=0)</pre></div></div></div></div></div>"
            ],
            "text/plain": [
              "SVC(random_state=0)"
            ]
          },
          "execution_count": 22,
          "metadata": {},
          "output_type": "execute_result"
        }
      ],
      "source": [
        "from sklearn.svm import SVC\n",
        "classifier = SVC(kernel = 'rbf', random_state = 0)\n",
        "classifier.fit(x_train, y_train)"
      ]
    },
    {
      "cell_type": "markdown",
      "metadata": {
        "id": "4S2r1gQI1xOV"
      },
      "source": [
        "# Predicting the Test set results"
      ]
    },
    {
      "cell_type": "code",
      "execution_count": 23,
      "metadata": {
        "colab": {
          "base_uri": "https://localhost:8080/"
        },
        "id": "mczPAvKy2OzU",
        "outputId": "40a24d0f-ccf0-42c2-9f6d-71834e4a4411"
      },
      "outputs": [
        {
          "name": "stdout",
          "output_type": "stream",
          "text": [
            "[[1. 0.]\n",
            " [1. 0.]\n",
            " [0. 0.]\n",
            " ...\n",
            " [1. 1.]\n",
            " [1. 1.]\n",
            " [0. 0.]]\n"
          ]
        }
      ],
      "source": [
        "y_pred = classifier.predict(x_test)\n",
        "print(np.concatenate((y_pred.reshape(len(y_pred),1), y_test.reshape(len(y_test),1)),1))"
      ]
    },
    {
      "cell_type": "code",
      "execution_count": 24,
      "metadata": {
        "colab": {
          "base_uri": "https://localhost:8080/"
        },
        "id": "8ppcOH4jrjHm",
        "outputId": "49aab8b6-9778-4a78-f158-7160c07f06c0"
      },
      "outputs": [
        {
          "data": {
            "text/plain": [
              "['classifier.joblib']"
            ]
          },
          "execution_count": 24,
          "metadata": {},
          "output_type": "execute_result"
        }
      ],
      "source": [
        "import joblib\n",
        "joblib.dump(classifier, 'classifier.joblib')"
      ]
    },
    {
      "cell_type": "code",
      "execution_count": 25,
      "metadata": {
        "id": "uO5cTtB0rp3R"
      },
      "outputs": [
        {
          "data": {
            "text/plain": [
              "['scaler.pkl']"
            ]
          },
          "execution_count": 25,
          "metadata": {},
          "output_type": "execute_result"
        }
      ],
      "source": [
        "import joblib\n",
        "from sklearn.svm import SVC\n",
        "from sklearn.preprocessing import StandardScaler\n",
        "\n",
        "classifier = SVC(kernel='linear', random_state=0)\n",
        "classifier.fit(x_train, y_train)\n",
        "\n",
        "joblib.dump(classifier, 'svm_model.pkl')\n",
        "\n",
        "scaler = StandardScaler()\n",
        "x_train_scaled = scaler.fit_transform(x_train)\n",
        "joblib.dump(scaler, 'scaler.pkl')"
      ]
    },
    {
      "cell_type": "code",
      "execution_count": 27,
      "metadata": {
        "id": "3CrpMfpvrsK1"
      },
      "outputs": [
        {
          "name": "stdout",
          "output_type": "stream",
          "text": [
            "Prediction for data point 0: 1.0\n",
            "Prediction for data point 1: 1.0\n",
            "Prediction for data point 2: 1.0\n"
          ]
        }
      ],
      "source": [
        "import numpy as np\n",
        "import joblib\n",
        "\n",
        "# Loading the saved SVM model\n",
        "svm_model = joblib.load('svm_model.pkl')\n",
        "\n",
        "# Loading the scaler if used during training\n",
        "scaler = joblib.load('scaler.pkl')\n",
        "\n",
        "# Manually input new data\n",
        "# Ensuring the new data matches the format and number of features used during training (23 features in this case)\n",
        "new_data = np.array([\n",
        "    [1.0, 0.0, 0.0, 0.0, 1.0, 1.0, 0.0, 0.0, 0.0, 1.0, 0.0, 1.0, 1.0, 0.0, 1.0, 0.0, 0.0, 25.0, 5400.0, 19.0, 0.0, 0.0, 0.0],\n",
        "    [0.0, 0.0, 0.0, 0.0, 1.0, 1.0, 0.0, 0.0, 0.0, 1.0, 0.0, 0.0, 1.0, 1.0, 1.0, 0.0, 0.0, 30.0, 78419.0, 35.0, 0.0, 0.0, 0.0],\n",
        "    [0.0, 0.0, 1.0, 0.0, 0.0, 1.0, 0.0, 0.0, 0.0, 0.0, 0.0, 0.0, 0.0, 0.0, 1.0, 0.0, 0.0, 7.0, 20760.0, 9.0, 0.0, 0.0, 0.0]\n",
        "])\n",
        "\n",
        "# Scale the new data\n",
        "new_data_scaled = scaler.transform(new_data)\n",
        "\n",
        "# Make predictions\n",
        "predictions = svm_model.predict(new_data_scaled)\n",
        "\n",
        "# Print the predictions\n",
        "for i, pred in enumerate(predictions):\n",
        "    print(f\"Prediction for data point {i}: {pred}\")"
      ]
    },
    {
      "cell_type": "markdown",
      "metadata": {
        "id": "Op48syz55Ia5"
      },
      "source": [
        "# Making the Confusion Matrix"
      ]
    },
    {
      "cell_type": "code",
      "execution_count": 28,
      "metadata": {
        "colab": {
          "base_uri": "https://localhost:8080/"
        },
        "id": "Zt0zMhbv5Nrs",
        "outputId": "c68532c8-03e8-4c1b-f027-a0f6fe28a3ff"
      },
      "outputs": [
        {
          "name": "stdout",
          "output_type": "stream",
          "text": [
            "[[4907 1861]\n",
            " [1220 6705]]\n"
          ]
        },
        {
          "data": {
            "text/plain": [
              "79.03083100796297"
            ]
          },
          "execution_count": 28,
          "metadata": {},
          "output_type": "execute_result"
        }
      ],
      "source": [
        "from sklearn.metrics import confusion_matrix, accuracy_score\n",
        "cm = confusion_matrix(y_test, y_pred)\n",
        "print(cm)\n",
        "accuracy_score(y_test, y_pred)*100"
      ]
    },
    {
      "cell_type": "code",
      "execution_count": 29,
      "metadata": {
        "colab": {
          "base_uri": "https://localhost:8080/"
        },
        "id": "XoQT_nUqaFUX",
        "outputId": "de367632-c854-4f3c-feee-db487994e060"
      },
      "outputs": [
        {
          "name": "stdout",
          "output_type": "stream",
          "text": [
            "[0.76107018 0.81317082]\n",
            "0.7903083100796298\n"
          ]
        }
      ],
      "source": [
        "from sklearn.metrics import f1_score\n",
        "print(f1_score(y_test, y_pred, average=None))\n",
        "f1_micro = f1_score(y_test, y_pred, average='micro')\n",
        "print(f1_micro)"
      ]
    },
    {
      "cell_type": "markdown",
      "metadata": {
        "id": "-lkQcso-r1W9"
      },
      "source": [
        "# Deployment Using Flask"
      ]
    },
    {
      "cell_type": "code",
      "execution_count": 34,
      "metadata": {
        "colab": {
          "base_uri": "https://localhost:8080/"
        },
        "id": "PYYUBO77kvQm",
        "outputId": "792c5941-d6de-4f47-aaf6-9000a0c2fc8d"
      },
      "outputs": [
        {
          "name": "stdout",
          "output_type": "stream",
          "text": [
            " * Serving Flask app '__main__'\n",
            " * Debug mode: on\n"
          ]
        },
        {
          "name": "stderr",
          "output_type": "stream",
          "text": [
            "WARNING: This is a development server. Do not use it in a production deployment. Use a production WSGI server instead.\n",
            " * Running on all addresses (0.0.0.0)\n",
            " * Running on http://127.0.0.1:5000\n",
            " * Running on http://192.168.90.50:5000\n",
            "Press CTRL+C to quit\n",
            " * Restarting with watchdog (windowsapi)\n"
          ]
        },
        {
          "ename": "SystemExit",
          "evalue": "1",
          "output_type": "error",
          "traceback": [
            "An exception has occurred, use %tb to see the full traceback.\n",
            "\u001b[1;31mSystemExit\u001b[0m\u001b[1;31m:\u001b[0m 1\n"
          ]
        }
      ],
      "source": [
        "import joblib\n",
        "import numpy as np\n",
        "from flask import Flask, request, jsonify\n",
        "\n",
        "# Initialize Flask app\n",
        "app = Flask(__name__)\n",
        "\n",
        "# Load the trained model\n",
        "try:\n",
        "    model = joblib.load('classifier.joblib')\n",
        "except FileNotFoundError:\n",
        "    print(\"Error: Model file not found. Please train and save the model first.\")\n",
        "    exit()\n",
        "\n",
        "@app.route('/predict', methods=['POST'])\n",
        "def predict():\n",
        "    try:\n",
        "        # Get JSON input\n",
        "        data = request.get_json(force=True)\n",
        "        \n",
        "        # Ensure data is in correct format\n",
        "        input_data = np.array(data['input_data']).reshape(1, -1)\n",
        "\n",
        "        # Make prediction\n",
        "        prediction = model.predict(input_data)\n",
        "        \n",
        "        return jsonify({'prediction': prediction.tolist()})\n",
        "    \n",
        "    except Exception as e:\n",
        "        return jsonify({'error': str(e)})\n",
        "\n",
        "if __name__ == '__main__':\n",
        "    app.run(host='0.0.0.0', port=5000, debug=True)\n"
      ]
    },
    {
      "cell_type": "code",
      "execution_count": 35,
      "metadata": {
        "id": "vsttTciZsUH_"
      },
      "outputs": [
        {
          "ename": "SyntaxError",
          "evalue": "invalid syntax (2184955579.py, line 1)",
          "output_type": "error",
          "traceback": [
            "\u001b[1;36m  Cell \u001b[1;32mIn[35], line 1\u001b[1;36m\u001b[0m\n\u001b[1;33m    curl -X POST http://127.0.0.1:5000/predict -H \"Content-Type: application/json\" -d '{\"features\":[1.0, 0.0, 0.0, 0.0, 1.0, 1.0, 0.0, 0.0, 0.0, 1.0, 0.0, 1.0, 1.0, 0.0, 1.0, 0.0, 0.0, 25.0, 5400.0, 19.0, 0.0, 0.0, 0.0] }'\u001b[0m\n\u001b[1;37m            ^\u001b[0m\n\u001b[1;31mSyntaxError\u001b[0m\u001b[1;31m:\u001b[0m invalid syntax\n"
          ]
        }
      ],
      "source": [
        "curl -X POST http://127.0.0.1:5000/predict -H \"Content-Type: application/json\" -d '{\"features\":[1.0, 0.0, 0.0, 0.0, 1.0, 1.0, 0.0, 0.0, 0.0, 1.0, 0.0, 1.0, 1.0, 0.0, 1.0, 0.0, 0.0, 25.0, 5400.0, 19.0, 0.0, 0.0, 0.0] }'"
      ]
    }
  ],
  "metadata": {
    "accelerator": "GPU",
    "colab": {
      "gpuType": "T4",
      "provenance": []
    },
    "kernelspec": {
      "display_name": "base",
      "language": "python",
      "name": "python3"
    },
    "language_info": {
      "codemirror_mode": {
        "name": "ipython",
        "version": 3
      },
      "file_extension": ".py",
      "mimetype": "text/x-python",
      "name": "python",
      "nbconvert_exporter": "python",
      "pygments_lexer": "ipython3",
      "version": "3.11.5"
    }
  },
  "nbformat": 4,
  "nbformat_minor": 0
}
